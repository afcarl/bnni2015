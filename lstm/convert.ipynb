{
 "cells": [
  {
   "cell_type": "code",
   "execution_count": 1,
   "metadata": {
    "collapsed": true
   },
   "outputs": [],
   "source": [
    "from scipy.io import loadmat\n",
    "\n",
    "X = loadmat(\"all_neurons_20ms.mat\")\n",
    "y = loadmat(\"locations_20ms.mat\")\n",
    "\n",
    "X = X['mm'].T\n",
    "y = y['loc'] / 3.5"
   ]
  },
  {
   "cell_type": "code",
   "execution_count": 4,
   "metadata": {
    "collapsed": false
   },
   "outputs": [
    {
     "name": "stdout",
     "output_type": "stream",
     "text": [
      "(54100L, 172L) (54100L, 2L)\n",
      "0 10 0.0351700124661\n"
     ]
    }
   ],
   "source": [
    "import numpy as np\n",
    "\n",
    "print X.shape, y.shape\n",
    "print np.min(X), np.max(X), np.mean(X)"
   ]
  },
  {
   "cell_type": "code",
   "execution_count": 9,
   "metadata": {
    "collapsed": false
   },
   "outputs": [
    {
     "name": "stdout",
     "output_type": "stream",
     "text": [
      "(5410L, 10L, 172L) (5410L, 10L, 2L)\n"
     ]
    }
   ],
   "source": [
    "X1 = np.reshape(X, (-1, 10, X.shape[1]))\n",
    "y1 = np.reshape(y, (-1, 10, y.shape[1]))\n",
    "\n",
    "print X1.shape, y1.shape"
   ]
  },
  {
   "cell_type": "code",
   "execution_count": 14,
   "metadata": {
    "collapsed": false
   },
   "outputs": [
    {
     "name": "stdout",
     "output_type": "stream",
     "text": [
      "(5410L, 172L) (5410L, 2L)\n"
     ]
    }
   ],
   "source": [
    "X2 = np.sum(X1, axis=1)\n",
    "y2 = y1[:,-1,:]\n",
    "\n",
    "print X2.shape, y2.shape"
   ]
  },
  {
   "cell_type": "code",
   "execution_count": 15,
   "metadata": {
    "collapsed": false
   },
   "outputs": [
    {
     "name": "stdout",
     "output_type": "stream",
     "text": [
      "0 30 0.351700124661\n",
      "4.46353517589 107.17104732\n"
     ]
    }
   ],
   "source": [
    "print np.min(X2), np.max(X2), np.mean(X2)\n",
    "print np.min(y2), np.max(y2)"
   ]
  },
  {
   "cell_type": "code",
   "execution_count": 18,
   "metadata": {
    "collapsed": true
   },
   "outputs": [],
   "source": [
    "np.save(\"all_neurons_200ms\", X2)\n",
    "np.save(\"locations_200ms\", y2)"
   ]
  },
  {
   "cell_type": "code",
   "execution_count": null,
   "metadata": {
    "collapsed": true
   },
   "outputs": [],
   "source": []
  }
 ],
 "metadata": {
  "kernelspec": {
   "display_name": "Python 2",
   "language": "python",
   "name": "python2"
  },
  "language_info": {
   "codemirror_mode": {
    "name": "ipython",
    "version": 2
   },
   "file_extension": ".py",
   "mimetype": "text/x-python",
   "name": "python",
   "nbconvert_exporter": "python",
   "pygments_lexer": "ipython2",
   "version": "2.7.11"
  }
 },
 "nbformat": 4,
 "nbformat_minor": 0
}
