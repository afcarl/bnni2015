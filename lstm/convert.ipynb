{
 "cells": [
  {
   "cell_type": "code",
   "execution_count": 1,
   "metadata": {
    "collapsed": true
   },
   "outputs": [],
   "source": [
    "from scipy.io import loadmat\n",
    "\n",
    "X = loadmat(\"all_neurons_20ms.mat\")\n",
    "y = loadmat(\"locations_20ms.mat\")\n",
    "\n",
    "X = X['mm'].T\n",
    "y = y['loc'] / 3.5"
   ]
  },
  {
   "cell_type": "code",
   "execution_count": 2,
   "metadata": {
    "collapsed": false
   },
   "outputs": [
    {
     "name": "stdout",
     "output_type": "stream",
     "text": [
      "(54100L, 172L) (54100L, 2L)\n",
      "0 10 0.0351700124661\n"
     ]
    }
   ],
   "source": [
    "import numpy as np\n",
    "\n",
    "print X.shape, y.shape\n",
    "print np.min(X), np.max(X), np.mean(X)"
   ]
  },
  {
   "cell_type": "code",
   "execution_count": 20,
   "metadata": {
    "collapsed": false
   },
   "outputs": [
    {
     "name": "stdout",
     "output_type": "stream",
     "text": [
      "(1081L, 50L, 172L) (1081L, 50L, 2L)\n",
      "(1081L, 172L) (1081L, 2L)\n",
      "(1080L, 344L) (1080L, 2L)\n",
      "(1080L, 1L, 344L) (1080L, 1L, 2L)\n",
      "(1081L, 50L, 172L) (1081L, 50L, 2L)\n",
      "(1081L, 172L) (1081L, 2L)\n",
      "(1080L, 344L) (1080L, 2L)\n",
      "(1080L, 1L, 344L) (1080L, 1L, 2L)\n",
      "(1081L, 50L, 172L) (1081L, 50L, 2L)\n",
      "(1081L, 172L) (1081L, 2L)\n",
      "(1080L, 344L) (1080L, 2L)\n",
      "(1080L, 1L, 344L) (1080L, 1L, 2L)\n",
      "(1081L, 50L, 172L) (1081L, 50L, 2L)\n",
      "(1081L, 172L) (1081L, 2L)\n",
      "(1080L, 344L) (1080L, 2L)\n",
      "(1080L, 1L, 344L) (1080L, 1L, 2L)\n",
      "(1081L, 50L, 172L) (1081L, 50L, 2L)\n",
      "(1081L, 172L) (1081L, 2L)\n",
      "(1080L, 344L) (1080L, 2L)\n",
      "(1080L, 1L, 344L) (1080L, 1L, 2L)\n",
      "(1080L, 5L, 344L) (1080L, 5L, 2L)\n",
      "(5400L, 344L) (5400L, 2L)\n"
     ]
    }
   ],
   "source": [
    "XX = []\n",
    "yy = []\n",
    "for i in xrange(0, 50, 10):\n",
    "    X1 = np.reshape(X[i:i-50], (-1, 50, X.shape[1]))\n",
    "    y1 = np.reshape(y[i:i-50], (-1, 50, y.shape[1]))\n",
    "\n",
    "    print X1.shape, y1.shape\n",
    "\n",
    "    X2 = np.sum(X1, axis=1)\n",
    "    y2 = y1[:,-1,:]\n",
    "\n",
    "    print X2.shape, y2.shape\n",
    "\n",
    "    X3 = np.concatenate((X2[:-1], X2[1:]), axis=1)\n",
    "    y3 = y2[:-1]\n",
    "\n",
    "    print X3.shape, y3.shape\n",
    "    \n",
    "    X4 = X3[:,np.newaxis,:]\n",
    "    y4 = y3[:,np.newaxis,:]\n",
    "    \n",
    "    print X4.shape, y4.shape\n",
    "    \n",
    "    XX.append(X4)\n",
    "    yy.append(y4)\n",
    "\n",
    "XX = np.concatenate(XX, axis=1)\n",
    "yy = np.concatenate(yy, axis=1)\n",
    "print XX.shape, yy.shape\n",
    "\n",
    "XX = np.reshape(XX, (-1, XX.shape[2]))\n",
    "yy = np.reshape(yy, (-1, yy.shape[2]))\n",
    "print XX.shape, yy.shape"
   ]
  },
  {
   "cell_type": "code",
   "execution_count": 21,
   "metadata": {
    "collapsed": false
   },
   "outputs": [
    {
     "name": "stdout",
     "output_type": "stream",
     "text": [
      "0 56 1.75914459518\n",
      "4.46353517589 107.17104732\n"
     ]
    }
   ],
   "source": [
    "print np.min(XX), np.max(XX), np.mean(XX)\n",
    "print np.min(yy), np.max(yy)"
   ]
  },
  {
   "cell_type": "code",
   "execution_count": 26,
   "metadata": {
    "collapsed": false
   },
   "outputs": [
    {
     "name": "stdout",
     "output_type": "stream",
     "text": [
      "[[ 36.58592459  33.4434648 ]\n",
      " [ 35.21247798  32.0133551 ]\n",
      " [ 35.37787856  32.85315218]\n",
      " [ 39.40962414  32.2809194 ]\n",
      " [ 49.33792476  29.70000961]\n",
      " [ 57.99910505  28.63735564]\n",
      " [ 58.8654734   25.19201308]\n",
      " [ 57.81221265  18.79908722]\n",
      " [ 59.20155197  16.06172331]\n",
      " [ 60.03928017  12.3552403 ]]\n"
     ]
    },
    {
     "data": {
      "text/plain": [
       "[<matplotlib.lines.Line2D at 0x1a3b2da0>]"
      ]
     },
     "execution_count": 26,
     "metadata": {},
     "output_type": "execute_result"
    },
    {
     "data": {
      "image/png": "[encoded data removed]",
      "text/plain": [
       "<matplotlib.figure.Figure at 0x19f165c0>"
      ]
     },
     "metadata": {},
     "output_type": "display_data"
    }
   ],
   "source": [
    "import matplotlib.pyplot as plt\n",
    "%matplotlib inline\n",
    "\n",
    "print yy[:10]\n",
    "\n",
    "plt.plot(yy[:20,0],yy[:20,1])"
   ]
  },
  {
   "cell_type": "code",
   "execution_count": 28,
   "metadata": {
    "collapsed": true
   },
   "outputs": [],
   "source": [
    "np.save(\"London_RNN_data_2x1000_at50_bin100-RAW_feat.npy\", XX)\n",
    "np.save(\"London_RNN_data_2x1000_at50_bin100-RAW_pos.npy\", yy)"
   ]
  },
  {
   "cell_type": "code",
   "execution_count": 32,
   "metadata": {
    "collapsed": false
   },
   "outputs": [
    {
     "name": "stdout",
     "output_type": "stream",
     "text": [
      "(5401L, 2L)\n"
     ]
    }
   ],
   "source": [
    "yya = np.loadtxt(\"London_RNN_data_2x1000_at50_bin100-RAW_pos.dat\")\n",
    "print yya.shape"
   ]
  },
  {
   "cell_type": "code",
   "execution_count": 33,
   "metadata": {
    "collapsed": false
   },
   "outputs": [
    {
     "name": "stdout",
     "output_type": "stream",
     "text": [
      "[[ 36.58592459  33.4434648 ]\n",
      " [ 35.21247798  32.0133551 ]\n",
      " [ 35.37787856  32.85315218]\n",
      " [ 39.40962414  32.2809194 ]\n",
      " [ 49.33792476  29.70000961]\n",
      " [ 57.99910505  28.63735564]\n",
      " [ 58.8654734   25.19201308]\n",
      " [ 57.81221265  18.79908722]\n",
      " [ 59.20155197  16.06172331]\n",
      " [ 60.03928017  12.3552403 ]] [[ 36.175  33.119]\n",
      " [ 35.284  32.016]\n",
      " [ 35.507  32.897]\n",
      " [ 40.149  32.174]\n",
      " [ 50.403  29.391]\n",
      " [ 58.481  28.504]\n",
      " [ 58.759  24.68 ]\n",
      " [ 57.806  18.269]\n",
      " [ 59.336  15.856]\n",
      " [ 60.133  11.836]]\n"
     ]
    }
   ],
   "source": [
    "print yy[:10], yya[:10]"
   ]
  },
  {
   "cell_type": "code",
   "execution_count": null,
   "metadata": {
    "collapsed": true
   },
   "outputs": [],
   "source": []
  }
 ],
 "metadata": {
  "kernelspec": {
   "display_name": "Python 2",
   "language": "python",
   "name": "python2"
  },
  "language_info": {
   "codemirror_mode": {
    "name": "ipython",
    "version": 2
   },
   "file_extension": ".py",
   "mimetype": "text/x-python",
   "name": "python",
   "nbconvert_exporter": "python",
   "pygments_lexer": "ipython2",
   "version": "2.7.11"
  }
 },
 "nbformat": 4,
 "nbformat_minor": 0
}
